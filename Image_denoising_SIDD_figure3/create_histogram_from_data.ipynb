{
 "cells": [
  {
   "cell_type": "code",
   "execution_count": null,
   "id": "52d1c6ad",
   "metadata": {},
   "outputs": [],
   "source": [
    "import pickle\n",
    "import glob\n",
    "import numpy as np\n",
    "import matplotlib.pyplot as plt\n",
    "import tikzplotlib\n",
    "\n",
    "plt.rcParams.update({\n",
    "    \"text.usetex\": True,\n",
    "    \"font.family\": \"serif\",\n",
    "    \"font.serif\": [\"Computer Modern Roman\"],\n",
    "    })\n",
    "\n",
    "\n",
    "colors = [(0.2298057,0.298717966,0.753683153),\n",
    "          (0.3634607953411765,0.4847836818509804,0.9010188868941177),\n",
    "          (0.5108243242509803,0.6493966148235294,0.9850787763764707),\n",
    "          (0.6672529243333334,0.7791764569999999,0.992959213),\n",
    "          (0.8049647588235295,0.8516661605568627,0.9261650744313725),\n",
    "          (0.9193759889058823,0.8312727235294118,0.7828736304470588),\n",
    "          (0.968203399,0.7208441,0.6122929913333334),\n",
    "          (0.9440545734235294,0.5531534787490197,0.4355484903137255),\n",
    "          (0.8523781350078431,0.34649194649411763,0.2803464686980392),\n",
    "          (0.705673158,0.01555616,0.150232812)]\n",
    "colors = ['b','r','k','g','m','c','tab:brown','tab:orange','tab:pink','tab:gray','tab:olive','tab:purple']\n",
    "\n",
    "markers = [\"v\",\"o\",\"^\",\"1\",\"*\",\">\",\"d\",\"<\",\"s\",\"P\",\"X\"]\n",
    "fontsize = 22"
   ]
  },
  {
   "cell_type": "markdown",
   "id": "b066bfd4",
   "metadata": {},
   "source": [
    "### Gradients for different noise levels"
   ]
  },
  {
   "cell_type": "code",
   "execution_count": null,
   "id": "526c1a95",
   "metadata": {},
   "outputs": [],
   "source": [
    "def plot_hists_together(ss_grad_diffs,sup_grad_diffs,bins,log=True):\n",
    "    \n",
    "    min_all = np.min(ss_grad_diffs+sup_grad_diffs)\n",
    "    max_all = np.max(ss_grad_diffs+sup_grad_diffs)\n",
    "    \n",
    "    plt.hist(sup_grad_diffs,bins=bins, alpha=0.5, label='Sup', color='red')\n",
    "    plt.hist(ss_grad_diffs,bins=bins, alpha=0.5, label='Self-sup 3.0', color='green')\n",
    "    \n",
    "    plt.legend(loc='upper right')\n",
    "    if log:\n",
    "        plt.xscale('log')\n",
    "        #plt.yscale('log')\n",
    "\n",
    "    # Add labels and a title\n",
    "    plt.xlabel('Normalized Difference')\n",
    "    plt.ylabel('Frequency')\n",
    "    plt.title('Histogram of Stochastic Gradients')\n",
    "    \n",
    "    #tikzplotlib.save('../../txt_files/histogram_Den_SIDD_log_logbins.tex')\n",
    "    plt.show()"
   ]
  },
  {
   "cell_type": "code",
   "execution_count": null,
   "id": "14edf570",
   "metadata": {},
   "outputs": [],
   "source": []
  },
  {
   "cell_type": "code",
   "execution_count": null,
   "id": "f951e55c",
   "metadata": {
    "scrolled": false
   },
   "outputs": [],
   "source": [
    "epochs = [1]\n",
    "\n",
    "experiment_name = \"E004_t10000_l2c56_bs1_lr00032_sup/\"# \"E001_t10000_l2c56_bs1_lr00032_sup/\" \n",
    "\n",
    "for epoch in epochs:\n",
    "    with open(f\"./{experiment_name}/ss_diff_tracks_ep{epoch}.pkl\", 'rb') as stream:          \n",
    "        ss_diff_30_tracks_FixCenter = pickle.load(stream)\n",
    "    with open(f\"./{experiment_name}/sup_diff_tracks_ep{epoch}.pkl\", 'rb') as stream:          \n",
    "        sup_diff_tracks_FixCenter = pickle.load(stream)\n",
    "\n",
    "    ss_grad_diffs_30 = ss_diff_30_tracks_FixCenter['divide_by_norm_of_risk_grad'].val\n",
    "    sup_grad_diffs = sup_diff_tracks_FixCenter['divide_by_norm_of_risk_grad'].val\n",
    "    ss_grad_diffs_30.sort()\n",
    "    sup_grad_diffs.sort()\n",
    "    \n",
    "    print(f\"\\nEpoch {epoch}:\")\n",
    "    print(f\"Stats ss 3.0 grad diffs: mean {np.mean(ss_grad_diffs_30):.5}, std {np.std(ss_grad_diffs_30):.5}, max {np.max(ss_grad_diffs_30):.5}, min {np.min(ss_grad_diffs_30):.5}\")\n",
    "    print(f\"Stats sup grad diffs: mean {np.mean(sup_grad_diffs):.5}, std {np.std(sup_grad_diffs):.5}, max {np.max(sup_grad_diffs):.5}, min {np.min(sup_grad_diffs):.5}\")\n",
    "\n",
    "    \n",
    "    cut_off = 1\n",
    "    max_diff_considered = 200 #ss_grad_diffs[-50]\n",
    "    print(f\"\\nGrad diffs larger than {max_diff_considered} are not considered in histograms\")\n",
    "    ss_grad_diffs_30_cutoff = list(np.array(ss_grad_diffs_30)[np.array(ss_grad_diffs_30)<=max_diff_considered])\n",
    "    sup_grad_diffs_cutoff = list(np.array(sup_grad_diffs)[np.array(sup_grad_diffs)<=max_diff_considered])\n",
    "    \n",
    "    print(f\"Fraction of grad diffs that remain after cutoff:\")\n",
    "    print(f\"ss 3.0: {len(ss_grad_diffs_30_cutoff)/len(ss_grad_diffs_30)}\")\n",
    "    print(f\"sup: {len(sup_grad_diffs_cutoff)/len(sup_grad_diffs)}\")\n",
    "    ss_grad_diffs_30 = ss_grad_diffs_30_cutoff\n",
    "    sup_grad_diffs = sup_grad_diffs_cutoff\n",
    "    \n",
    "    print(f\"\\nStats after cutoff grad diffs larger than {max_diff_considered}\")\n",
    "    print(f\"Stats ss 3.0 grad diffs: mean {np.mean(ss_grad_diffs_30):.5}, std {np.std(ss_grad_diffs_30):.5}, max {np.max(ss_grad_diffs_30):.5}, min {np.min(ss_grad_diffs_30):.5}\")\n",
    "    print(f\"Stats sup grad diffs: mean {np.mean(sup_grad_diffs):.5}, std {np.std(sup_grad_diffs):.5}, max {np.max(sup_grad_diffs):.5}, min {np.min(sup_grad_diffs):.5}\")\n",
    "\n",
    "    \n",
    "    \n",
    "    min_all = np.min(ss_grad_diffs_30+sup_grad_diffs)\n",
    "    max_all = np.max(ss_grad_diffs_30+sup_grad_diffs)\n",
    "    \n",
    "    \n",
    "    # logarithmically sized bins\n",
    "    num_bins=100\n",
    "    bins=np.logspace(np.log10(min_all), np.log10(max_all), num=num_bins, endpoint=True, base=10.0)\n",
    "    print(num_bins)\n",
    "    \n",
    "    print(len(bins))\n",
    "    print(max_all)\n",
    "    print(bins[-1])\n",
    "    \n",
    "    log=True\n",
    "    plot_hists_together(ss_grad_diffs_30,sup_grad_diffs,bins=bins,log=log)\n"
   ]
  },
  {
   "cell_type": "code",
   "execution_count": null,
   "id": "216979cf",
   "metadata": {},
   "outputs": [],
   "source": []
  }
 ],
 "metadata": {
  "kernelspec": {
   "display_name": "Python 3 (ipykernel)",
   "language": "python",
   "name": "python3"
  },
  "language_info": {
   "codemirror_mode": {
    "name": "ipython",
    "version": 3
   },
   "file_extension": ".py",
   "mimetype": "text/x-python",
   "name": "python",
   "nbconvert_exporter": "python",
   "pygments_lexer": "ipython3",
   "version": "3.7.11"
  }
 },
 "nbformat": 4,
 "nbformat_minor": 5
}
