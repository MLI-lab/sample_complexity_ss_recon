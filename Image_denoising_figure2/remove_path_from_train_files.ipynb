{
 "cells": [
  {
   "cell_type": "code",
   "execution_count": 1,
   "id": "d1de015b",
   "metadata": {},
   "outputs": [],
   "source": [
    "import os\n",
    "import glob\n",
    "import random\n",
    "import numpy as np\n",
    "import torch\n",
    "import PIL.Image as Image"
   ]
  },
  {
   "cell_type": "code",
   "execution_count": 5,
   "id": "135828fd",
   "metadata": {},
   "outputs": [],
   "source": [
    "tr_size_list = [100,300,600,1000,3000,6000,10000,30000,60000,100000,300000]"
   ]
  },
  {
   "cell_type": "code",
   "execution_count": 6,
   "id": "8ee53c6b",
   "metadata": {},
   "outputs": [
    {
     "name": "stdout",
     "output_type": "stream",
     "text": [
      "trsize100_filepaths.pt\n",
      "100\n",
      "trsize300_filepaths.pt\n",
      "300\n",
      "trsize600_filepaths.pt\n",
      "600\n",
      "trsize1000_filepaths.pt\n",
      "1000\n",
      "trsize3000_filepaths.pt\n",
      "3000\n",
      "trsize6000_filepaths.pt\n",
      "6000\n",
      "trsize10000_filepaths.pt\n",
      "10000\n",
      "trsize30000_filepaths.pt\n",
      "30000\n",
      "trsize60000_filepaths.pt\n",
      "60000\n",
      "trsize100000_filepaths.pt\n",
      "100000\n",
      "trsize300000_filepaths.pt\n",
      "300000\n"
     ]
    }
   ],
   "source": [
    "save_path = './training_set_lists/'\n",
    "load_path = \"training_set_lists_full_path/\"\n",
    "\n",
    "for tr_size in tr_size_list:\n",
    "    # Dogukans training sets\n",
    "    \n",
    "    files_dk = torch.load(load_path+f\"trsize{tr_size}_filepaths.pt\")  \n",
    "    count=0\n",
    "    print(f\"trsize{tr_size}_filepaths.pt\")\n",
    "    list_without_path = []\n",
    "    for file_dk in files_dk:\n",
    "        count+=1\n",
    "        list_without_path.append(file_dk[49:])\n",
    "\n",
    "    print(count)\n",
    "    torch.save(list_without_path,save_path+f\"trsize{tr_size}_filepaths.pt\")"
   ]
  },
  {
   "cell_type": "code",
   "execution_count": 7,
   "id": "d5d8fe73",
   "metadata": {},
   "outputs": [
    {
     "name": "stdout",
     "output_type": "stream",
     "text": [
      "ImageNetTest300_filepaths.pt\n",
      "300\n",
      "ImageNetVal80_filepaths.pt\n",
      "80\n"
     ]
    }
   ],
   "source": [
    "save_path = './training_set_lists/'\n",
    "load_path = \"training_set_lists_full_path/\"\n",
    "\n",
    "for dset in ['ImageNetTest300_filepaths.pt','ImageNetVal80_filepaths.pt']:\n",
    "    # Dogukans training sets\n",
    "    \n",
    "    files_dk = torch.load(load_path+dset)  \n",
    "    count=0\n",
    "    print(dset)\n",
    "    list_without_path = []\n",
    "    for file_dk in files_dk:\n",
    "        count+=1\n",
    "        list_without_path.append(file_dk[49:])\n",
    "\n",
    "    print(count)\n",
    "    torch.save(list_without_path,save_path+dset)"
   ]
  },
  {
   "cell_type": "code",
   "execution_count": 10,
   "id": "51810224",
   "metadata": {},
   "outputs": [
    {
     "name": "stdout",
     "output_type": "stream",
     "text": [
      "ImageNetTest229_filepaths_old_noOverlap_ssd1.pt\n",
      "229\n",
      "ImageNetVal63_filepaths_old_noOverlap_ssd1.pt\n",
      "63\n"
     ]
    }
   ],
   "source": [
    "save_path = './training_set_lists/'\n",
    "load_path = \"../training_set_lists_new/\"\n",
    "\n",
    "load_names = ['ImageNetTest229_filepaths_old_noOverlap_ssd1.pt','ImageNetVal63_filepaths_old_noOverlap_ssd1.pt']\n",
    "save_names = ['ImageNetTest229_filepaths.pt','ImageNetVal63_filepaths.pt']\n",
    "\n",
    "for dset,dsetnew in zip(load_names,save_names):\n",
    "    # Dogukans training sets\n",
    "    \n",
    "    files_dk = torch.load(load_path+dset)  \n",
    "    count=0\n",
    "    print(dset)\n",
    "    list_without_path = []\n",
    "    for file_dk in files_dk:\n",
    "        count+=1\n",
    "        list_without_path.append(file_dk[49:])\n",
    "\n",
    "    print(count)\n",
    "    torch.save(list_without_path,save_path+dsetnew)"
   ]
  },
  {
   "cell_type": "code",
   "execution_count": null,
   "id": "b3f00e77",
   "metadata": {},
   "outputs": [],
   "source": []
  },
  {
   "cell_type": "code",
   "execution_count": 11,
   "id": "8140bc47",
   "metadata": {},
   "outputs": [
    {
     "data": {
      "text/plain": [
       "['train/n03729826/n03729826_38054.JPEG',\n",
       " 'train/n02966193/n02966193_31996.JPEG',\n",
       " 'train/n03443371/n03443371_3469.JPEG',\n",
       " 'train/n04532106/n04532106_710.JPEG',\n",
       " 'train/n01795545/n01795545_6951.JPEG',\n",
       " 'train/n02910353/n02910353_3335.JPEG',\n",
       " 'train/n03180011/n03180011_1170.JPEG',\n",
       " 'train/n03937543/n03937543_3164.JPEG',\n",
       " 'train/n02110063/n02110063_9565.JPEG',\n",
       " 'train/n03930630/n03930630_15283.JPEG',\n",
       " 'train/n03016953/n03016953_1985.JPEG',\n",
       " 'train/n02085620/n02085620_9667.JPEG',\n",
       " 'train/n03874599/n03874599_1634.JPEG',\n",
       " 'train/n03529860/n03529860_3375.JPEG',\n",
       " 'train/n01494475/n01494475_16384.JPEG',\n",
       " 'train/n03658185/n03658185_12612.JPEG',\n",
       " 'train/n02966193/n02966193_42710.JPEG',\n",
       " 'train/n02869837/n02869837_10334.JPEG',\n",
       " 'train/n04532106/n04532106_10228.JPEG',\n",
       " 'train/n01795545/n01795545_42.JPEG',\n",
       " 'train/n03180011/n03180011_3809.JPEG',\n",
       " 'train/n03937543/n03937543_3160.JPEG',\n",
       " 'train/n03016953/n03016953_13102.JPEG',\n",
       " 'train/n02085620/n02085620_7995.JPEG',\n",
       " 'train/n03874599/n03874599_6969.JPEG',\n",
       " 'train/n03529860/n03529860_8494.JPEG',\n",
       " 'train/n03259280/n03259280_9479.JPEG',\n",
       " 'train/n01494475/n01494475_1132.JPEG',\n",
       " 'train/n10565667/n10565667_4933.JPEG',\n",
       " 'train/n03729826/n03729826_22890.JPEG',\n",
       " 'train/n02966193/n02966193_36622.JPEG',\n",
       " 'train/n02869837/n02869837_30963.JPEG',\n",
       " 'train/n03443371/n03443371_17308.JPEG',\n",
       " 'train/n01795545/n01795545_2681.JPEG',\n",
       " 'train/n02910353/n02910353_34325.JPEG',\n",
       " 'train/n03180011/n03180011_7217.JPEG',\n",
       " 'train/n02859443/n02859443_25474.JPEG',\n",
       " 'train/n03937543/n03937543_11674.JPEG',\n",
       " 'train/n02110063/n02110063_13207.JPEG',\n",
       " 'train/n03930630/n03930630_13264.JPEG',\n",
       " 'train/n03016953/n03016953_39419.JPEG',\n",
       " 'train/n03874599/n03874599_14714.JPEG',\n",
       " 'train/n03259280/n03259280_4871.JPEG',\n",
       " 'train/n01494475/n01494475_8729.JPEG',\n",
       " 'train/n03658185/n03658185_8669.JPEG',\n",
       " 'train/n03729826/n03729826_25854.JPEG',\n",
       " 'train/n02966193/n02966193_33001.JPEG',\n",
       " 'train/n02869837/n02869837_2986.JPEG',\n",
       " 'train/n04532106/n04532106_11352.JPEG',\n",
       " 'train/n01795545/n01795545_9817.JPEG',\n",
       " 'train/n03180011/n03180011_10223.JPEG',\n",
       " 'train/n02859443/n02859443_9095.JPEG',\n",
       " 'train/n03937543/n03937543_5915.JPEG',\n",
       " 'train/n02110063/n02110063_5152.JPEG',\n",
       " 'train/n03930630/n03930630_5728.JPEG',\n",
       " 'train/n03016953/n03016953_14991.JPEG',\n",
       " 'train/n02085620/n02085620_4089.JPEG',\n",
       " 'train/n03874599/n03874599_166.JPEG',\n",
       " 'train/n03529860/n03529860_5451.JPEG',\n",
       " 'train/n03259280/n03259280_3103.JPEG',\n",
       " 'train/n01494475/n01494475_9559.JPEG',\n",
       " 'train/n10565667/n10565667_6393.JPEG',\n",
       " 'train/n03658185/n03658185_17051.JPEG']"
      ]
     },
     "execution_count": 11,
     "metadata": {},
     "output_type": "execute_result"
    }
   ],
   "source": [
    "list_without_path"
   ]
  },
  {
   "cell_type": "code",
   "execution_count": null,
   "id": "02d3e432",
   "metadata": {},
   "outputs": [],
   "source": []
  }
 ],
 "metadata": {
  "kernelspec": {
   "display_name": "Python 3 (ipykernel)",
   "language": "python",
   "name": "python3"
  },
  "language_info": {
   "codemirror_mode": {
    "name": "ipython",
    "version": 3
   },
   "file_extension": ".py",
   "mimetype": "text/x-python",
   "name": "python",
   "nbconvert_exporter": "python",
   "pygments_lexer": "ipython3",
   "version": "3.7.11"
  }
 },
 "nbformat": 4,
 "nbformat_minor": 5
}
