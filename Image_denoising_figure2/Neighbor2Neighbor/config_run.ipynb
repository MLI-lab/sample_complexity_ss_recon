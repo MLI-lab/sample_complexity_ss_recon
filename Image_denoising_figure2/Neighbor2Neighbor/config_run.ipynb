{
 "cells": [
  {
   "cell_type": "code",
   "execution_count": null,
   "metadata": {},
   "outputs": [],
   "source": [
    "import os\n",
    "import json\n",
    "import traceback\n",
    "\n",
    "from utils.main_function_helpers import *\n",
    "\n",
    "os.environ['CUDA_VISIBLE_DEVICES'] = '0'\n"
   ]
  },
  {
   "cell_type": "code",
   "execution_count": null,
   "metadata": {},
   "outputs": [],
   "source": [
    "#######################################################\n",
    "# Adjust the following  four parameters\n",
    "#######################################################\n",
    "\n",
    "# Assign an ID to the experiment\n",
    "exp_nums = ['001']\n",
    "# Pick which configuration file/s to run from the options folder\n",
    "config_files = ['Fig2_Neigh2Neigh_N100_C128'] \n",
    "# Path to ImageNet train directory\n",
    "path_to_ImageNet_train = '../../../../media/ssd1/ImageNet/ILSVRC/Data/CLS-LOC/'\n",
    "# Run the best seed or all the seeds \n",
    "run_which_seeds = 'run_best_seed' # 'run_all_seeds' or 'run_best_seed'\n",
    "\n",
    "\n",
    "\n",
    "########################################################\n",
    "\n",
    "# Sanity checks\n",
    "if len(config_files) != len(exp_nums):\n",
    "    raise ValueError(\"Specify experiment ID for each experiment\") \n",
    "\n",
    "\n",
    "\n",
    "#########################################################\n",
    "# The parameters below are fixed \n",
    "training = True\n",
    "testing = True\n",
    "\n"
   ]
  },
  {
   "cell_type": "code",
   "execution_count": null,
   "metadata": {},
   "outputs": [],
   "source": [
    "hps = []\n",
    "for ee in range(len(exp_nums)):\n",
    "    options_name = \"options/{}.txt\".format(config_files[ee])\n",
    "\n",
    "    # Load hyperparameter options\n",
    "    with open(options_name) as handle:\n",
    "        hp = json.load(handle)\n",
    "    hp['path_to_ImageNet_train'] = [path_to_ImageNet_train]\n",
    "    hps.append(hp)\n",
    "    \n"
   ]
  },
  {
   "cell_type": "code",
   "execution_count": null,
   "metadata": {},
   "outputs": [],
   "source": [
    "for ee in range(len(exp_nums)):\n",
    "    \n",
    "    hp = hps[ee]\n",
    "    if run_which_seeds == 'run_best_seed':\n",
    "        num_runs = hp['best_seed']\n",
    "    else:\n",
    "        num_runs = hp['all_seeds']\n",
    "    \n",
    "    \n",
    "    for rr in num_runs:\n",
    "        exp_name =  'E' + exp_nums[ee] + \\\n",
    "                    '_t' + str(hp['train_size'][0]) + \\\n",
    "                    '_l' + str(hp['num_pool_layers'][0]) + \\\n",
    "                    'c' + str(hp['chans'][0]) + \\\n",
    "                    '_bs' + str(hp['batch_size'][0]) +\\\n",
    "                    '_lr' + str(hp['lr'][0])[2:]\n",
    "        if rr>0:\n",
    "            exp_name = exp_name + '_run{}'.format(rr+1)\n",
    "        if not os.path.isdir('../'+exp_name):\n",
    "            os.mkdir('../'+exp_name)\n",
    "        \n",
    "        ########\n",
    "        # Training\n",
    "        ########\n",
    "        try:\n",
    "            if training:  \n",
    "                print('\\n{} - Training\\n'.format(exp_name))\n",
    "                args = get_args(hp,0,rr)\n",
    "                args.output_dir = '../'+exp_name\n",
    "                cli_main(args)\n",
    "                print('\\n{} - Training finished\\n'.format(exp_name))\n",
    "        except:\n",
    "            with open(\"../\"+exp_name+\"/errors_train.txt\", \"a+\") as text_file:\n",
    "                error_str = traceback.format_exc()\n",
    "                print(error_str, file=text_file)   \n",
    "            print(error_str)\n",
    "            \n",
    "        ########\n",
    "        # Testing\n",
    "        ########\n",
    "        try:\n",
    "            if testing:\n",
    "                print('\\n{} - Testing\\n'.format(exp_name))\n",
    "\n",
    "                test_modes = [\"val\",\"test\"]\n",
    "\n",
    "                for test_mode in test_modes:\n",
    "                    #for restore_mode in [\"last\",\"best\"]:\n",
    "                    for restore_mode in [\"best\"]:\n",
    "\n",
    "                        args = get_args(hp,0,rr)\n",
    "                        args.output_dir = '../'+exp_name\n",
    "                        args.restore_mode = restore_mode\n",
    "                        args.test_mode = test_mode\n",
    "                        args.test_noise_std_min = args.noise_std\n",
    "                        args.test_noise_std_max = args.noise_std\n",
    "                        cli_main_test(args)\n",
    "                        \n",
    "                print('\\n{} - Testing finished\\n'.format(exp_name))\n",
    "        except:\n",
    "            with open(\"../\"+exp_name+\"/errors_test.txt\", \"a+\") as text_file:\n",
    "                error_str = traceback.format_exc()\n",
    "                print(error_str, file=text_file)   \n",
    "            print(error_str)               "
   ]
  },
  {
   "cell_type": "code",
   "execution_count": null,
   "metadata": {},
   "outputs": [],
   "source": []
  }
 ],
 "metadata": {
  "kernelspec": {
   "display_name": "Python 3 (ipykernel)",
   "language": "python",
   "name": "python3"
  },
  "language_info": {
   "codemirror_mode": {
    "name": "ipython",
    "version": 3
   },
   "file_extension": ".py",
   "mimetype": "text/x-python",
   "name": "python",
   "nbconvert_exporter": "python",
   "pygments_lexer": "ipython3",
   "version": "3.7.11"
  },
  "vscode": {
   "interpreter": {
    "hash": "d4d1e4263499bec80672ea0156c357c1ee493ec2b1c70f0acce89fc37c4a6abe"
   }
  }
 },
 "nbformat": 4,
 "nbformat_minor": 2
}
