{
 "cells": [
  {
   "cell_type": "code",
   "execution_count": 1,
   "metadata": {},
   "outputs": [],
   "source": [
    "import os\n",
    "import glob\n",
    "import traceback\n",
    "import numpy as np\n",
    "\n",
    "from utils.main_function_helpers import *\n",
    "\n",
    "os.environ['CUDA_VISIBLE_DEVICES'] = '2'\n",
    "\n",
    "\n",
    "import torch\n",
    "import argparse\n",
    "import os\n",
    "import yaml\n",
    "import pathlib\n",
    "import pickle\n",
    "import logging\n",
    "import sys\n",
    "import time\n",
    "from torch.utils.tensorboard import SummaryWriter\n",
    "import torch.nn.functional as F\n",
    "import torchvision\n",
    "import glob\n",
    "from torch.serialization import default_restore_location\n",
    "from torch.utils.data import DataLoader\n",
    "import matplotlib.pyplot as plt\n",
    "\n",
    "import numpy as np\n",
    "from tensorboard.backend.event_processing import event_accumulator\n",
    "\n",
    "import utils\n",
    "import models \n",
    "\n",
    "from utils.data_helpers.load_datasets_helpers import *\n",
    "from utils.meters import *\n",
    "from utils.progress_bar import *\n",
    "from utils.noise_model import get_noise\n",
    "from utils.metrics import ssim,psnr\n",
    "from utils.util_calculate_psnr_ssim import calculate_psnr,calculate_ssim\n",
    "from utils.test_metrics import *\n",
    "\n",
    "import copy\n"
   ]
  },
  {
   "cell_type": "code",
   "execution_count": 6,
   "metadata": {},
   "outputs": [],
   "source": [
    "with open('histogram_data/stochastic_normalized_diff_tn0_t10000.pickle', 'rb') as f:\n",
    "    normalized_diff_tn0 = pickle.load(f)\n",
    "\n",
    "with open('histogram_data/stochastic_normalized_diff_tn25_t10000.pickle', 'rb') as f:\n",
    "    normalized_diff_tn25 = pickle.load(f)\n",
    "    \n",
    "with open('histogram_data/stochastic_normalized_diff_tn50_t10000.pickle', 'rb') as f:\n",
    "    normalized_diff_tn50 = pickle.load(f)"
   ]
  },
  {
   "cell_type": "code",
   "execution_count": 7,
   "metadata": {},
   "outputs": [
    {
     "data": {
      "image/png": "[encoded data removed]",
      "text/plain": [
       "<Figure size 432x288 with 1 Axes>"
      ]
     },
     "metadata": {
      "needs_background": "light"
     },
     "output_type": "display_data"
    }
   ],
   "source": [
    "# Overlay the histograms\n",
    "# Create a histogram of the data with three different colors\n",
    "#plt.hist([normalized_diff_tn0, normalized_diff_tn25, normalized_diff_tn50], bins=int(np.sqrt(train_size)), alpha=0.5, label=['Sup.', '$\\sigma = 25$', '$\\sigma = 50$'], color=['red', 'green', 'blue'])\n",
    "binwidth = 0.05 #1/int(np.sqrt(train_size))\n",
    "data = []\n",
    "for c in normalized_diff_tn0:\n",
    "    data.append(c)\n",
    "for c in normalized_diff_tn25:\n",
    "    data.append(c)\n",
    "for c in normalized_diff_tn50:\n",
    "    data.append(c)\n",
    "plt.hist(normalized_diff_tn0,bins=np.arange(min(data), max(data) + binwidth, binwidth), alpha=0.5, label='Sup.', color='red')\n",
    "plt.hist(normalized_diff_tn25,bins=np.arange(min(data), max(data) + binwidth, binwidth), alpha=0.5, label='$\\sigma = 25$', color='green')\n",
    "plt.hist(normalized_diff_tn50,bins=np.arange(min(data), max(data) + binwidth, binwidth), alpha=0.5, label='$\\sigma = 50$', color='blue')\n",
    "# Add a legend to the plot\n",
    "plt.legend(loc='upper right')\n",
    "\n",
    "# Add labels and a title\n",
    "plt.xlabel('Normalized Difference')\n",
    "plt.ylabel('Frequency')\n",
    "plt.title('Histogram of Stochastic Gradients')\n",
    "\n",
    "# Show the plot\n",
    "plt.show()"
   ]
  },
  {
   "cell_type": "code",
   "execution_count": 8,
   "metadata": {},
   "outputs": [
    {
     "name": "stdout",
     "output_type": "stream",
     "text": [
      "Mean of supervised gradients: 0.7674258715957403\n",
      "Mean of gradients when target noise = 25 : 0.9172197199322283\n",
      "Mean of gradients when target noise = 50 : 1.3690312671497464\n"
     ]
    }
   ],
   "source": [
    "# Mean of the plots\n",
    "print('Mean of supervised gradients: ' + str(np.mean(normalized_diff_tn0)))\n",
    "print('Mean of gradients when target noise = 25 : ' + str(np.mean(normalized_diff_tn25)))\n",
    "print('Mean of gradients when target noise = 50 : ' + str(np.mean(normalized_diff_tn50)))\n"
   ]
  }
 ],
 "metadata": {
  "kernelspec": {
   "display_name": "base",
   "language": "python",
   "name": "python3"
  },
  "language_info": {
   "codemirror_mode": {
    "name": "ipython",
    "version": 3
   },
   "file_extension": ".py",
   "mimetype": "text/x-python",
   "name": "python",
   "nbconvert_exporter": "python",
   "pygments_lexer": "ipython3",
   "version": "3.6.9"
  },
  "orig_nbformat": 4,
  "vscode": {
   "interpreter": {
    "hash": "d4d1e4263499bec80672ea0156c357c1ee493ec2b1c70f0acce89fc37c4a6abe"
   }
  }
 },
 "nbformat": 4,
 "nbformat_minor": 2
}
