{
 "cells": [
  {
   "cell_type": "code",
   "execution_count": 1,
   "id": "52d1c6ad",
   "metadata": {},
   "outputs": [],
   "source": [
    "import pickle\n",
    "import glob\n",
    "import numpy as np\n",
    "import matplotlib.pyplot as plt"
   ]
  },
  {
   "cell_type": "code",
   "execution_count": null,
   "id": "e96e2f14",
   "metadata": {},
   "outputs": [],
   "source": []
  },
  {
   "cell_type": "markdown",
   "id": "b066bfd4",
   "metadata": {},
   "source": [
    "### Gradients for different noise levels"
   ]
  },
  {
   "cell_type": "code",
   "execution_count": 2,
   "id": "526c1a95",
   "metadata": {},
   "outputs": [],
   "source": [
    "def plot_hists_together_2noiseLevel(ss_grad_diffs_30,ss_grad_diffs_35,sup_grad_diffs,bins,log=True):    \n",
    "    \n",
    "    n_sup,bins_sup,_ = plt.hist(sup_grad_diffs,bins=bins, alpha=0.5, label='Sup', color='red')\n",
    "    n_ss_30,bins_ss_30,_ = plt.hist(ss_grad_diffs_30,bins=bins, alpha=0.5, label='Self-sup 3.0', color='green')\n",
    "    n_sup_35,bins_sup_35,_ = plt.hist(ss_grad_diffs_35,bins=bins, alpha=0.5, label='Self-sup 3.5', color='blue')\n",
    "    # Add a legend to the plot\n",
    "    plt.legend(loc='upper right')\n",
    "    \n",
    "    if log:\n",
    "        plt.xscale('log')\n",
    "\n",
    "    # Add labels and a title\n",
    "    plt.xlabel('Normalized Difference')\n",
    "    plt.ylabel('Frequency')\n",
    "    plt.title('Histogram of Stochastic Gradients')\n",
    "\n",
    "    plt.show()\n",
    "    return n_sup,bins_sup,n_ss_30,bins_ss_30,n_sup_35,bins_sup_35"
   ]
  },
  {
   "cell_type": "code",
   "execution_count": null,
   "id": "14edf570",
   "metadata": {},
   "outputs": [],
   "source": []
  },
  {
   "cell_type": "code",
   "execution_count": null,
   "id": "bf0eecee",
   "metadata": {},
   "outputs": [],
   "source": []
  },
  {
   "cell_type": "markdown",
   "id": "2ad71319",
   "metadata": {},
   "source": [
    "#### Logarithmix x-axis and logarithmic bin width"
   ]
  },
  {
   "cell_type": "code",
   "execution_count": 4,
   "id": "a5f2e96c",
   "metadata": {},
   "outputs": [
    {
     "name": "stdout",
     "output_type": "stream",
     "text": [
      "\n",
      "Epoch 1:\n",
      "Stats ss 3.0 grad diffs: mean 29.029, std 111.96, max 4967.0, min 0.31985\n",
      "Stats ss 3.5 grad diffs: mean 55.368, std 212.75, max 6457.4, min 0.35082\n",
      "Stats sup grad diffs: mean 13.942, std 50.458, max 2972.5, min 0.20954\n",
      "\n",
      "Grad diffs larger than 10000 are not considered in histograms\n",
      "Fraction of grad diffs that remain after cutoff:\n",
      "ss 3.0: 1.0\n",
      "ss 3.5: 1.0\n",
      "sup: 1.0\n",
      "\n",
      "Stats after cutoff grad diffs larger than 10000\n",
      "Stats ss 3.0 grad diffs: mean 29.029, std 111.96, max 4967.0, min 0.31985\n",
      "Stats ss 3.5 grad diffs: mean 55.368, std 212.75, max 6457.4, min 0.35082\n",
      "Stats sup grad diffs: mean 13.942, std 50.458, max 2972.5, min 0.20954\n",
      "100\n",
      "100\n",
      "6457.4404296875\n",
      "6457.440429687497\n"
     ]
    },
    {
     "data": {
      "image/png": "[encoded data removed]",
      "text/plain": [
       "<Figure size 432x288 with 1 Axes>"
      ]
     },
     "metadata": {
      "needs_background": "light"
     },
     "output_type": "display_data"
    }
   ],
   "source": [
    "#epochs = [0,1,2]\n",
    "epochs = [1]\n",
    "experiment_name = \"N992_t10000_sup_VS_ss3035_FixCenter_grad_diff_run1\" \n",
    "\n",
    "for epoch in epochs:\n",
    "    with open(f\"./{experiment_name}/ss_diff_30_tracks_ep{epoch}.pkl\", 'rb') as stream:          \n",
    "        ss_diff_30_tracks_FixCenter = pickle.load(stream)\n",
    "    with open(f\"./{experiment_name}/sup_diff_tracks_ep{epoch}.pkl\", 'rb') as stream:          \n",
    "        sup_diff_tracks_FixCenter = pickle.load(stream)\n",
    "    with open(f\"./{experiment_name}/ss_diff_35_tracks_ep{epoch}.pkl\", 'rb') as stream:          \n",
    "        ss_diff_35_tracks_FixCenter = pickle.load(stream)\n",
    "\n",
    "    ss_grad_diffs_30 = ss_diff_30_tracks_FixCenter['divide_by_norm_of_risk_grad'].val\n",
    "    ss_grad_diffs_35 = ss_diff_35_tracks_FixCenter['divide_by_norm_of_risk_grad'].val\n",
    "    sup_grad_diffs = sup_diff_tracks_FixCenter['divide_by_norm_of_risk_grad'].val\n",
    "    ss_grad_diffs_30.sort()\n",
    "    ss_grad_diffs_35.sort()\n",
    "    sup_grad_diffs.sort()\n",
    "    \n",
    "    print(f\"\\nEpoch {epoch}:\")\n",
    "    print(f\"Stats ss 3.0 grad diffs: mean {np.mean(ss_grad_diffs_30):.5}, std {np.std(ss_grad_diffs_30):.5}, max {np.max(ss_grad_diffs_30):.5}, min {np.min(ss_grad_diffs_30):.5}\")\n",
    "    print(f\"Stats ss 3.5 grad diffs: mean {np.mean(ss_grad_diffs_35):.5}, std {np.std(ss_grad_diffs_35):.5}, max {np.max(ss_grad_diffs_35):.5}, min {np.min(ss_grad_diffs_35):.5}\")\n",
    "    print(f\"Stats sup grad diffs: mean {np.mean(sup_grad_diffs):.5}, std {np.std(sup_grad_diffs):.5}, max {np.max(sup_grad_diffs):.5}, min {np.min(sup_grad_diffs):.5}\")\n",
    "\n",
    "    cut_off = 1\n",
    "    max_diff_considered = 10000 \n",
    "    print(f\"\\nGrad diffs larger than {max_diff_considered} are not considered in histograms\")\n",
    "    ss_grad_diffs_30_cutoff = list(np.array(ss_grad_diffs_30)[np.array(ss_grad_diffs_30)<=max_diff_considered])\n",
    "    ss_grad_diffs_35_cutoff = list(np.array(ss_grad_diffs_35)[np.array(ss_grad_diffs_35)<=max_diff_considered])\n",
    "    sup_grad_diffs_cutoff = list(np.array(sup_grad_diffs)[np.array(sup_grad_diffs)<=max_diff_considered])\n",
    "    \n",
    "    print(f\"Fraction of grad diffs that remain after cutoff:\")\n",
    "    print(f\"ss 3.0: {len(ss_grad_diffs_30_cutoff)/len(ss_grad_diffs_30)}\")\n",
    "    print(f\"ss 3.5: {len(ss_grad_diffs_35_cutoff)/len(ss_grad_diffs_35)}\")\n",
    "    print(f\"sup: {len(sup_grad_diffs_cutoff)/len(sup_grad_diffs)}\")\n",
    "    ss_grad_diffs_30 = ss_grad_diffs_30_cutoff\n",
    "    ss_grad_diffs_35 = ss_grad_diffs_35_cutoff\n",
    "    sup_grad_diffs = sup_grad_diffs_cutoff\n",
    "    \n",
    "    print(f\"\\nStats after cutoff grad diffs larger than {max_diff_considered}\")\n",
    "    print(f\"Stats ss 3.0 grad diffs: mean {np.mean(ss_grad_diffs_30):.5}, std {np.std(ss_grad_diffs_30):.5}, max {np.max(ss_grad_diffs_30):.5}, min {np.min(ss_grad_diffs_30):.5}\")\n",
    "    print(f\"Stats ss 3.5 grad diffs: mean {np.mean(ss_grad_diffs_35):.5}, std {np.std(ss_grad_diffs_35):.5}, max {np.max(ss_grad_diffs_35):.5}, min {np.min(ss_grad_diffs_35):.5}\")\n",
    "    print(f\"Stats sup grad diffs: mean {np.mean(sup_grad_diffs):.5}, std {np.std(sup_grad_diffs):.5}, max {np.max(sup_grad_diffs):.5}, min {np.min(sup_grad_diffs):.5}\")\n",
    "    \n",
    "    min_all = np.min(ss_grad_diffs_30+sup_grad_diffs+ss_grad_diffs_35)\n",
    "    max_all = np.max(ss_grad_diffs_30+sup_grad_diffs+ss_grad_diffs_35)\n",
    "    \n",
    "    # logarithmically sized bins\n",
    "    num_bins=100\n",
    "    bins=np.logspace(np.log10(min_all), np.log10(max_all), num=num_bins, endpoint=True, base=10.0)\n",
    "    print(num_bins)\n",
    "    \n",
    "    print(len(bins))\n",
    "    print(max_all)\n",
    "    print(bins[-1])\n",
    "    \n",
    "    log=True\n",
    "    n_sup,bins_sup,n_ss_30,bins_ss_30,n_sup_35,bins_sup_35 = plot_hists_together_2noiseLevel(ss_grad_diffs_30,\n",
    "                                                                                             ss_grad_diffs_35,\n",
    "                                                                                             sup_grad_diffs,\n",
    "                                                                                             bins=bins,\n",
    "                                                                                             log=log)\n",
    "    "
   ]
  },
  {
   "cell_type": "code",
   "execution_count": null,
   "id": "c154172c",
   "metadata": {},
   "outputs": [],
   "source": []
  },
  {
   "cell_type": "code",
   "execution_count": null,
   "id": "16b928db",
   "metadata": {},
   "outputs": [],
   "source": []
  },
  {
   "cell_type": "code",
   "execution_count": null,
   "id": "7a3c165b",
   "metadata": {},
   "outputs": [],
   "source": []
  }
 ],
 "metadata": {
  "kernelspec": {
   "display_name": "Python 3 (ipykernel)",
   "language": "python",
   "name": "python3"
  },
  "language_info": {
   "codemirror_mode": {
    "name": "ipython",
    "version": 3
   },
   "file_extension": ".py",
   "mimetype": "text/x-python",
   "name": "python",
   "nbconvert_exporter": "python",
   "pygments_lexer": "ipython3",
   "version": "3.7.11"
  }
 },
 "nbformat": 4,
 "nbformat_minor": 5
}
